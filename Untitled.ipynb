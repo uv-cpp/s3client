{
 "cells": [
  {
   "cell_type": "code",
   "execution_count": 1,
   "id": "7356b0c7",
   "metadata": {},
   "outputs": [
    {
     "name": "stdout",
     "output_type": "stream",
     "text": [
      "Ciao\n"
     ]
    }
   ],
   "source": [
    "#include <iostream>\n",
    "using namespace std;\n",
    "cout << \"Ciao\" << endl;"
   ]
  },
  {
   "cell_type": "code",
   "execution_count": 2,
   "id": "c92e277c",
   "metadata": {},
   "outputs": [],
   "source": [
    "#include <vector>"
   ]
  },
  {
   "cell_type": "code",
   "execution_count": 3,
   "id": "f4e595c2",
   "metadata": {},
   "outputs": [],
   "source": [
    "vector<int> v={1,3,4};"
   ]
  },
  {
   "cell_type": "code",
   "execution_count": 4,
   "id": "ab1faeaf",
   "metadata": {},
   "outputs": [
    {
     "name": "stdout",
     "output_type": "stream",
     "text": [
      "4\n"
     ]
    }
   ],
   "source": [
    "cout << v[2] << endl;"
   ]
  },
  {
   "cell_type": "code",
   "execution_count": null,
   "id": "3106a02d",
   "metadata": {},
   "outputs": [],
   "source": []
  }
 ],
 "metadata": {
  "kernelspec": {
   "display_name": "C++11",
   "language": "C++11",
   "name": "xcpp11"
  },
  "language_info": {
   "codemirror_mode": "text/x-c++src",
   "file_extension": ".cpp",
   "mimetype": "text/x-c++src",
   "name": "c++",
   "version": "11"
  }
 },
 "nbformat": 4,
 "nbformat_minor": 5
}
